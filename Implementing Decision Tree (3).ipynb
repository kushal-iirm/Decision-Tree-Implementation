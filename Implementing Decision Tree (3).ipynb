{
 "cells": [
  {
   "cell_type": "markdown",
   "id": "representative-butterfly",
   "metadata": {},
   "source": [
    "# Implementing Decision Tree on Iris Dataset"
   ]
  },
  {
   "cell_type": "markdown",
   "id": "optimum-crystal",
   "metadata": {},
   "source": [
    "### Note:\n",
    "In the below code I tried to print the decision tree based on the continuous data. The code will not predict or fit the training data. Instead of that it will simply print the node data and the tree formed by using the data."
   ]
  },
  {
   "cell_type": "code",
   "execution_count": 1,
   "id": "judicial-voice",
   "metadata": {},
   "outputs": [],
   "source": [
    "from sklearn import datasets\n",
    "import math\n",
    "import numpy as np\n",
    "import pandas as pd\n",
    "import graphviz"
   ]
  },
  {
   "cell_type": "markdown",
   "id": "considered-administration",
   "metadata": {},
   "source": [
    "### Uniq_Couter"
   ]
  },
  {
   "cell_type": "markdown",
   "id": "listed-departure",
   "metadata": {},
   "source": [
    "Function return the count of unique values present in y (Result)"
   ]
  },
  {
   "cell_type": "code",
   "execution_count": 2,
   "id": "czech-education",
   "metadata": {},
   "outputs": [],
   "source": [
    "def uniq_counter(y):\n",
    "    set_y=set(y)\n",
    "    count_dic={}\n",
    "    for i in set_y:\n",
    "        count_dic[i]=(i==y).sum()\n",
    "    return count_dic"
   ]
  },
  {
   "cell_type": "markdown",
   "id": "effective-problem",
   "metadata": {},
   "source": [
    "### Entropy"
   ]
  },
  {
   "cell_type": "markdown",
   "id": "sharp-colony",
   "metadata": {},
   "source": [
    "$$entropy=-\\sum_{i}P_i log_2(P_i)$$ "
   ]
  },
  {
   "cell_type": "markdown",
   "id": "powered-tulsa",
   "metadata": {},
   "source": [
    "Entropy is calculated using the above formula. Where $P_i$ is the probability of getting i"
   ]
  },
  {
   "cell_type": "code",
   "execution_count": 3,
   "id": "mediterranean-offering",
   "metadata": {},
   "outputs": [],
   "source": [
    "def entropy(y):\n",
    "    # Calling uniq_counter which will return the count of each feature present in y.\n",
    "    pos_output=uniq_counter(y)\n",
    "    ent=0\n",
    "    for i in pos_output:\n",
    "        p_i = pos_output[i]/len(y)\n",
    "        ent+= -p_i*math.log(p_i,2)\n",
    "    return ent"
   ]
  },
  {
   "cell_type": "markdown",
   "id": "union-humanity",
   "metadata": {},
   "source": [
    "### Split Info"
   ]
  },
  {
   "cell_type": "markdown",
   "id": "surprised-camel",
   "metadata": {},
   "source": [
    "$$SplitInfo = \\sum_{j=1}^{n}(D_j/D)(log_2(D_j/D))$$"
   ]
  },
  {
   "cell_type": "markdown",
   "id": "pacific-fisher",
   "metadata": {},
   "source": [
    "Above formula is used to calculate split info.<br>\n",
    "Where :- <br>\n",
    "n = no. of node into which we have split <br>\n",
    "D = no. of element in original node on which split happened <br>\n",
    "$D_j$ = no. of element in jth node"
   ]
  },
  {
   "cell_type": "code",
   "execution_count": 4,
   "id": "charged-domestic",
   "metadata": {},
   "outputs": [],
   "source": [
    "def split_info(node1_len,node2_len):\n",
    "    if node1_len==0 or node2_len==0:\n",
    "        return 0\n",
    "    total_len=node1_len+node2_len\n",
    "    split_info=(-node1_len*math.log((node1_len/total_len),2)/total_len)+(-node2_len*math.log((node2_len/total_len),2)/total_len)\n",
    "    return split_info"
   ]
  },
  {
   "cell_type": "markdown",
   "id": "ruled-nicholas",
   "metadata": {},
   "source": [
    "### Info Gain"
   ]
  },
  {
   "cell_type": "markdown",
   "id": "physical-milan",
   "metadata": {},
   "source": [
    "Info_gain = Info_of_parent_node - Info_of_child <br>\n",
    "Info_of_parent_node = entropy_of_parent <br>\n",
    "Info_of_child = $\\sum_{child}$ (total_child_node_feature * entropy_of_child / total_parent_node_feature)"
   ]
  },
  {
   "cell_type": "code",
   "execution_count": 5,
   "id": "painful-hayes",
   "metadata": {},
   "outputs": [],
   "source": [
    "def info_gain(df, feature_selected, point):\n",
    "    df_node1=df[df[feature_selected]<=point]\n",
    "    df_node2=df[df[feature_selected]>point]\n",
    "    info_req=entropy(df['Result'])\n",
    "    \n",
    "    info_node1=len(df_node1)*entropy(df_node1['Result'])/len(df)\n",
    "    info_node2=len(df_node2)*entropy(df_node2['Result'])/len(df)\n",
    "    total_info=info_node1+info_node2\n",
    "    \n",
    "    info_gain=info_req-total_info\n",
    "    \n",
    "    # Calling split_info here with arguments as the child nodes length\n",
    "    spl_info=split_info(len(df_node1['Result']),len(df_node2['Result']))\n",
    "    \n",
    "    #Returning the info_gain and split_info \n",
    "    return info_gain,spl_info"
   ]
  },
  {
   "cell_type": "markdown",
   "id": "incorrect-meeting",
   "metadata": {},
   "source": [
    "### Gain Ratio"
   ]
  },
  {
   "cell_type": "markdown",
   "id": "eligible-cheese",
   "metadata": {},
   "source": [
    "Gain Ratio = Info Gain / Split Info"
   ]
  },
  {
   "cell_type": "code",
   "execution_count": 6,
   "id": "premier-spokesman",
   "metadata": {},
   "outputs": [],
   "source": [
    "def gain_ratio(df,feature_selected,point):\n",
    "    i_gain, spl_info= info_gain(df,feature_selected,point)\n",
    "    if spl_info==0:\n",
    "        # Returning -infinity to handle n/0 error\n",
    "        return -math.inf\n",
    "    return i_gain/spl_info"
   ]
  },
  {
   "cell_type": "markdown",
   "id": "hired-grammar",
   "metadata": {},
   "source": [
    "### Split Points"
   ]
  },
  {
   "cell_type": "markdown",
   "id": "considerable-university",
   "metadata": {},
   "source": [
    "This function returns a list of points on which split can be done. Input is the column of feature on which we are trying to split."
   ]
  },
  {
   "cell_type": "code",
   "execution_count": 7,
   "id": "healthy-draft",
   "metadata": {},
   "outputs": [],
   "source": [
    "def split_points(data):\n",
    "    points=[]\n",
    "    # Sorting so that all our data points lie in a single line\n",
    "    data=data.sort_values()\n",
    "    # finding only unique data points so that our split points will be unique too\n",
    "    unique_data=data.unique()\n",
    "    for i in range(len(unique_data)-1):\n",
    "        # Talking avg of the 2 data points at a time and appending in to our split points list\n",
    "        points.append(((unique_data[i]+unique_data[i+1])/2).round(2))\n",
    "    return points"
   ]
  },
  {
   "cell_type": "markdown",
   "id": "cross-dryer",
   "metadata": {},
   "source": [
    "### Create Data Frame"
   ]
  },
  {
   "cell_type": "markdown",
   "id": "amino-first",
   "metadata": {},
   "source": [
    "As our whole program is written considering the data frame of iris, below function will convert our data to a single data frame."
   ]
  },
  {
   "cell_type": "code",
   "execution_count": 8,
   "id": "tested-picnic",
   "metadata": {},
   "outputs": [],
   "source": [
    "def create_data_frame(x,y,col_name):\n",
    "    df=pd.DataFrame(x,columns=col_name)\n",
    "    df['Result']=y\n",
    "    return df"
   ]
  },
  {
   "cell_type": "markdown",
   "id": "earlier-parallel",
   "metadata": {},
   "source": [
    "### Build Tree"
   ]
  },
  {
   "cell_type": "markdown",
   "id": "demographic-parallel",
   "metadata": {},
   "source": [
    "Below mentioned class is used to store all the nodes in the form of a dictionary, print the required data and finally print the tree."
   ]
  },
  {
   "cell_type": "code",
   "execution_count": 9,
   "id": "official-float",
   "metadata": {},
   "outputs": [],
   "source": [
    "class buildTree:\n",
    "    \n",
    "    # counter will store the number of count of nodes and dic will store all the data of the different nodes \n",
    "    # where key will be the counter of the node and value will be the data\n",
    "    counter=0\n",
    "    dic={}\n",
    "    \n",
    "    def __init__(self,data):\n",
    "        self.data=data\n",
    "        buildTree.counter+=1\n",
    "        self.create_dic(data)\n",
    "        self.print_data(self.data)\n",
    "        \n",
    "    # print_data will print the node data in our required format\n",
    "    def print_data(self,data):\n",
    "        print('Level ',data['level'])\n",
    "        for i in data['fl_name']:\n",
    "            print('Count of',i,'= ',data['fl_name'][i])\n",
    "        print('Current Entropy =',data['ent'])\n",
    "        if data['node']=='leaf':\n",
    "            print('Reached Leaf Node')\n",
    "        elif data['node']=='leaf2':\n",
    "            print('Reached Leaf Node, No Feature to Split Further')\n",
    "        elif data['node']=='parent':\n",
    "            print('Splitting on feature',data['prefered_feature'],'at ',data['splitat'],'with gain ratio',data['g_r'])\n",
    "        print('------------------------------------------------------------')\n",
    "        \n",
    "    # create_dic will add the node data to the dic where key will be the count of node and value will be the data\n",
    "    def create_dic(self,data):\n",
    "        buildTree.dic[buildTree.counter]=data\n",
    "        child=buildTree.counter\n",
    "        \n",
    "        # Adding a relation key in our data\n",
    "        # Here the idea is that the node should not be at level 0 as level 0 node is not a child node\n",
    "        # Iterate in reverse order in dic and find the first parent node whose level is smaller than the current node\n",
    "        # Store the node number in 'rel' and break to create the relation of child to parent node\n",
    "        if data['level']!=0:\n",
    "            for i in sorted(buildTree.dic.keys(),reverse=True):\n",
    "                if buildTree.dic[i]['level']<data['level'] and buildTree.dic[i]['node']=='parent':\n",
    "                    buildTree.dic[child]['rel']=str(i)\n",
    "                    break\n",
    "                    \n",
    "    # Returns the tree data in the form of dictionary\n",
    "    @classmethod\n",
    "    def get_dic(self):\n",
    "        return buildTree.dic\n",
    "    \n",
    "    # As our counter and dic are on class level so it become necessary \n",
    "    # to set them to 0 and empty dictionary before storing anything.\n",
    "    @classmethod\n",
    "    def refresh_dic(self):\n",
    "        buildTree.counter=0\n",
    "        buildTree.dic={}\n",
    "        \n",
    "    # Below code will return the tree in the form of dot data\n",
    "    @classmethod\n",
    "    def treebuilder(self):\n",
    "        \n",
    "        # Creating Digraph object\n",
    "        dot=graphviz.Digraph()\n",
    "        dot.node_attr['shape'] = 'rectangle'\n",
    "        \n",
    "        # Iterating in dic\n",
    "        for i in buildTree.dic:\n",
    "            \n",
    "            # box will store all the data which we want to print in our node of the tree\n",
    "            box=''\n",
    "            if buildTree.dic[i].get('splitat') is not None:\n",
    "                box=box+buildTree.dic[i].get('prefered_feature')+' <= '+str(buildTree.dic[i].get('splitat'))+'\\n'\n",
    "            else:\n",
    "                box+='Leaf Node \\n'\n",
    "            new_str1=''\n",
    "            new_str2=''\n",
    "            for j in buildTree.dic[i]['fl_name']:\n",
    "                new_str1=new_str1+','+j+' '\n",
    "                new_str2=new_str2+','+str(buildTree.dic[i]['fl_name'][j])\n",
    "            box=box+new_str1.strip(',')+'\\n'+new_str2.strip(',')+'\\n'+'entropy = '+str(buildTree.dic[i]['ent'].round(4))+'\\n'\n",
    "            \n",
    "            if buildTree.dic[i]['node']=='leaf':\n",
    "                for j in buildTree.dic[i].get('fl_name').keys():\n",
    "                    box=box+' output - '+j\n",
    "            if buildTree.dic[i]['node']=='leaf2':\n",
    "                box=box+' output - '+max(buildTree.dic[i]['fl_name'],key=buildTree.dic[i]['fl_name'].get)\n",
    "            \n",
    "            # Adding the node with number as node number and node data as box\n",
    "            dot.node(str(i),box)\n",
    "            \n",
    "            # Adding relations or edges to the node\n",
    "            if buildTree.dic[i].get('rel') is not None:\n",
    "                dot.edge(str(buildTree.dic[i].get('rel')),str(i))\n",
    "        return dot"
   ]
  },
  {
   "cell_type": "markdown",
   "id": "tracked-bunny",
   "metadata": {},
   "source": [
    "### Decision Tree"
   ]
  },
  {
   "cell_type": "markdown",
   "id": "together-second",
   "metadata": {},
   "source": [
    "Below Function is the function which is doing all the recursion and making the decision by taking the help of the above mentioned functions.<br>\n",
    "Stoping Conditions<br>\n",
    "* If the result has only 1 unique value\n",
    "* If there are no feature to split upon  \n",
    "<br>\n",
    "Else Continue splitting based on the below Conditions<br>\n",
    "\n",
    "* Choose a feature to split upon\n",
    "* Identify the points on which we can split\n",
    "* Identify the point where we get max gain\n",
    "* Repeat the same for remaining feature\n",
    "* Pick the point and feature where we get the max gain"
   ]
  },
  {
   "cell_type": "code",
   "execution_count": 10,
   "id": "latter-extra",
   "metadata": {},
   "outputs": [],
   "source": [
    "def dec_tree(df,fl_name,level=0):\n",
    "    \n",
    "    # uniq_y -> all the unique results of our dataframe\n",
    "    uniq_y=uniq_counter(df['Result'])\n",
    "    \n",
    "    # dic will store all the required node info\n",
    "    dic={}\n",
    "    \n",
    "    # Removing result column from features list\n",
    "    features=df.columns[:-1]\n",
    "    \n",
    "    #First stoping condition\n",
    "    if len(uniq_y)==1:\n",
    "        \n",
    "        # Storing all node info in dic\n",
    "        dic['level']=level\n",
    "        new_dic={}\n",
    "        for i in uniq_y:\n",
    "            new_dic[fl_name[i]]=uniq_y[i]\n",
    "        dic['fl_name']=new_dic\n",
    "        dic['ent']=entropy(df['Result'])\n",
    "        dic['node']='leaf'\n",
    "        \n",
    "        # Calling buildTree to store the node info and add it in our tree\n",
    "        buildTree(dic)\n",
    "        \n",
    "    # Second stopping condition\n",
    "    elif len(df.columns)-1==0:\n",
    "        \n",
    "        # Storing all node info in dic\n",
    "        dic['level']=level\n",
    "        new_dic={}\n",
    "        for i in uniq_y:\n",
    "            new_dic[fl_name[i]]=uniq_y[i]\n",
    "        dic['fl_name']=new_dic\n",
    "        dic['ent']=entropy(df['Result'])\n",
    "        dic['node']='leaf2'\n",
    "        \n",
    "        # Calling buildTree to store the node info and add it in our tree\n",
    "        buildTree(dic)\n",
    "      \n",
    "    # To continue our recursion\n",
    "    else:\n",
    "        \n",
    "        # Initially max_gain, prefered_feture, split_at are set to None which will have when we get our first node \n",
    "        # and then changes based on the gain ratio\n",
    "        max_gain=None\n",
    "        prefered_feature=None\n",
    "        split_at=None\n",
    "        \n",
    "        # Iterating over the features available to split\n",
    "        for i in features:\n",
    "            \n",
    "            # Getting the split poinst\n",
    "            sp_points=split_points(df[i])\n",
    "            \n",
    "            # Iterating over the split points and finding the point and feture for which we get the maximum gain\n",
    "            for j in sp_points:\n",
    "                g_r=gain_ratio(df,i,j)\n",
    "                if max_gain==None:\n",
    "                    max_gain=g_r\n",
    "                    prefered_feature=i\n",
    "                    split_at=j\n",
    "                elif max_gain<g_r:\n",
    "                    max_gain=g_r\n",
    "                    prefered_feature=i\n",
    "                    split_at=j\n",
    "                    \n",
    "        # Storing the node info in the dic based on the feature and split point found in earlier step\n",
    "        dic['level']=level\n",
    "        new_dic={}\n",
    "        for i in uniq_y:\n",
    "            new_dic[fl_name[i]]=uniq_y[i]\n",
    "        dic['fl_name']=new_dic\n",
    "        dic['ent']=entropy(df['Result'])\n",
    "        dic['node']='parent'\n",
    "        dic['splitat']=split_at\n",
    "        dic['prefered_feature']=prefered_feature\n",
    "        dic['g_r']=max_gain\n",
    "        \n",
    "        # Calling buildTree to add the node in the tree\n",
    "        buildTree(dic)\n",
    "        \n",
    "        # Spliting our dataframe into two new dataframes based on the feature and split point found earlier\n",
    "        node_1=df[df[prefered_feature]<=split_at]        \n",
    "        node_2=df[df[prefered_feature]>split_at]\n",
    "\n",
    "        \n",
    "        # Recursion call by droping the column on which we have already split and increasing the level\n",
    "        dec_tree(node_1.drop([prefered_feature],axis=1),fl_name,level+1)\n",
    "        dec_tree(node_2.drop([prefered_feature],axis=1),fl_name,level+1)"
   ]
  },
  {
   "cell_type": "markdown",
   "id": "powered-treaty",
   "metadata": {},
   "source": [
    "### Export Tree"
   ]
  },
  {
   "cell_type": "markdown",
   "id": "warming-browser",
   "metadata": {},
   "source": [
    "Below function is used to save our tree in pdf format"
   ]
  },
  {
   "cell_type": "code",
   "execution_count": 11,
   "id": "final-husband",
   "metadata": {},
   "outputs": [],
   "source": [
    "def export_tree(dot,name):\n",
    "    dot.render(name)\n",
    "    return True"
   ]
  },
  {
   "cell_type": "markdown",
   "id": "disciplinary-stick",
   "metadata": {},
   "source": [
    "##### ----------------------------------------------------------------------------------------------------------------------------------------------------------------------------"
   ]
  },
  {
   "cell_type": "markdown",
   "id": "arranged-trailer",
   "metadata": {},
   "source": [
    "### Truth table dataset"
   ]
  },
  {
   "cell_type": "code",
   "execution_count": 12,
   "id": "confused-springer",
   "metadata": {},
   "outputs": [],
   "source": [
    "x = np.array([[1,1],\n",
    "              [0,1],\n",
    "              [1,0],\n",
    "              [0,0]])\n",
    "y = np.array([1,\n",
    "              1,\n",
    "              1,\n",
    "              0]) \n",
    "truth=create_data_frame(x,y,['X1','X2'])"
   ]
  },
  {
   "cell_type": "code",
   "execution_count": 13,
   "id": "fitted-fortune",
   "metadata": {},
   "outputs": [
    {
     "name": "stdout",
     "output_type": "stream",
     "text": [
      "Level  0\n",
      "Count of False =  1\n",
      "Count of True =  3\n",
      "Current Entropy = 0.8112781244591328\n",
      "Splitting on feature X1 at  0.5 with gain ratio 0.31127812445913283\n",
      "------------------------------------------------------------\n",
      "Level  1\n",
      "Count of False =  1\n",
      "Count of True =  1\n",
      "Current Entropy = 1.0\n",
      "Splitting on feature X2 at  0.5 with gain ratio 1.0\n",
      "------------------------------------------------------------\n",
      "Level  2\n",
      "Count of False =  1\n",
      "Current Entropy = 0.0\n",
      "Reached Leaf Node\n",
      "------------------------------------------------------------\n",
      "Level  2\n",
      "Count of True =  1\n",
      "Current Entropy = 0.0\n",
      "Reached Leaf Node\n",
      "------------------------------------------------------------\n",
      "Level  1\n",
      "Count of True =  2\n",
      "Current Entropy = 0.0\n",
      "Reached Leaf Node\n",
      "------------------------------------------------------------\n"
     ]
    }
   ],
   "source": [
    "buildTree.refresh_dic()\n",
    "dec_tree(truth,fl_name=['False','True'])\n",
    "dot=buildTree.treebuilder()"
   ]
  },
  {
   "cell_type": "code",
   "execution_count": 14,
   "id": "studied-sapphire",
   "metadata": {},
   "outputs": [
    {
     "data": {
      "text/plain": [
       "True"
      ]
     },
     "execution_count": 14,
     "metadata": {},
     "output_type": "execute_result"
    }
   ],
   "source": [
    "export_tree(dot,'truth_final_tree')"
   ]
  },
  {
   "cell_type": "code",
   "execution_count": 15,
   "id": "fourth-disease",
   "metadata": {},
   "outputs": [
    {
     "data": {
      "image/svg+xml": [
       "<?xml version=\"1.0\" encoding=\"UTF-8\" standalone=\"no\"?>\r\n",
       "<!DOCTYPE svg PUBLIC \"-//W3C//DTD SVG 1.1//EN\"\r\n",
       " \"http://www.w3.org/Graphics/SVG/1.1/DTD/svg11.dtd\">\r\n",
       "<!-- Generated by graphviz version 2.38.0 (20140413.2041)\r\n",
       " -->\r\n",
       "<!-- Title: %3 Pages: 1 -->\r\n",
       "<svg width=\"274pt\" height=\"314pt\"\r\n",
       " viewBox=\"0.00 0.00 273.50 314.00\" xmlns=\"http://www.w3.org/2000/svg\" xmlns:xlink=\"http://www.w3.org/1999/xlink\">\r\n",
       "<g id=\"graph0\" class=\"graph\" transform=\"scale(1 1) rotate(0) translate(4 310)\">\r\n",
       "<title>%3</title>\r\n",
       "<polygon fill=\"white\" stroke=\"none\" points=\"-4,4 -4,-310 269.5,-310 269.5,4 -4,4\"/>\r\n",
       "<!-- 1 -->\r\n",
       "<g id=\"node1\" class=\"node\"><title>1</title>\r\n",
       "<polygon fill=\"none\" stroke=\"black\" points=\"218.5,-306 105.5,-306 105.5,-238 218.5,-238 218.5,-306\"/>\r\n",
       "<text text-anchor=\"middle\" x=\"162\" y=\"-290.8\" font-family=\"Times New Roman,serif\" font-size=\"14.00\">X1 &lt;= 0.5</text>\r\n",
       "<text text-anchor=\"middle\" x=\"162\" y=\"-275.8\" font-family=\"Times New Roman,serif\" font-size=\"14.00\">False ,True </text>\r\n",
       "<text text-anchor=\"middle\" x=\"162\" y=\"-260.8\" font-family=\"Times New Roman,serif\" font-size=\"14.00\">1,3</text>\r\n",
       "<text text-anchor=\"middle\" x=\"162\" y=\"-245.8\" font-family=\"Times New Roman,serif\" font-size=\"14.00\">entropy = 0.8113</text>\r\n",
       "</g>\r\n",
       "<!-- 2 -->\r\n",
       "<g id=\"node2\" class=\"node\"><title>2</title>\r\n",
       "<polygon fill=\"none\" stroke=\"black\" points=\"152,-194.5 60,-194.5 60,-126.5 152,-126.5 152,-194.5\"/>\r\n",
       "<text text-anchor=\"middle\" x=\"106\" y=\"-179.3\" font-family=\"Times New Roman,serif\" font-size=\"14.00\">X2 &lt;= 0.5</text>\r\n",
       "<text text-anchor=\"middle\" x=\"106\" y=\"-164.3\" font-family=\"Times New Roman,serif\" font-size=\"14.00\">False ,True </text>\r\n",
       "<text text-anchor=\"middle\" x=\"106\" y=\"-149.3\" font-family=\"Times New Roman,serif\" font-size=\"14.00\">1,1</text>\r\n",
       "<text text-anchor=\"middle\" x=\"106\" y=\"-134.3\" font-family=\"Times New Roman,serif\" font-size=\"14.00\">entropy = 1.0</text>\r\n",
       "</g>\r\n",
       "<!-- 1&#45;&gt;2 -->\r\n",
       "<g id=\"edge1\" class=\"edge\"><title>1&#45;&gt;2</title>\r\n",
       "<path fill=\"none\" stroke=\"black\" d=\"M145.046,-237.849C139.509,-227.021 133.285,-214.851 127.461,-203.463\"/>\r\n",
       "<polygon fill=\"black\" stroke=\"black\" points=\"130.566,-201.848 122.896,-194.538 124.333,-205.035 130.566,-201.848\"/>\r\n",
       "</g>\r\n",
       "<!-- 5 -->\r\n",
       "<g id=\"node5\" class=\"node\"><title>5</title>\r\n",
       "<polygon fill=\"none\" stroke=\"black\" points=\"265.5,-202 170.5,-202 170.5,-119 265.5,-119 265.5,-202\"/>\r\n",
       "<text text-anchor=\"middle\" x=\"218\" y=\"-186.8\" font-family=\"Times New Roman,serif\" font-size=\"14.00\">Leaf Node </text>\r\n",
       "<text text-anchor=\"middle\" x=\"218\" y=\"-171.8\" font-family=\"Times New Roman,serif\" font-size=\"14.00\">True </text>\r\n",
       "<text text-anchor=\"middle\" x=\"218\" y=\"-156.8\" font-family=\"Times New Roman,serif\" font-size=\"14.00\">2</text>\r\n",
       "<text text-anchor=\"middle\" x=\"218\" y=\"-141.8\" font-family=\"Times New Roman,serif\" font-size=\"14.00\">entropy = 0.0</text>\r\n",
       "<text text-anchor=\"middle\" x=\"218\" y=\"-126.8\" font-family=\"Times New Roman,serif\" font-size=\"14.00\"> output &#45; True</text>\r\n",
       "</g>\r\n",
       "<!-- 1&#45;&gt;5 -->\r\n",
       "<g id=\"edge4\" class=\"edge\"><title>1&#45;&gt;5</title>\r\n",
       "<path fill=\"none\" stroke=\"black\" d=\"M178.954,-237.849C183.251,-229.446 187.963,-220.234 192.579,-211.207\"/>\r\n",
       "<polygon fill=\"black\" stroke=\"black\" points=\"195.709,-212.774 197.146,-202.277 189.476,-209.587 195.709,-212.774\"/>\r\n",
       "</g>\r\n",
       "<!-- 3 -->\r\n",
       "<g id=\"node3\" class=\"node\"><title>3</title>\r\n",
       "<polygon fill=\"none\" stroke=\"black\" points=\"98,-83 0,-83 0,-0 98,-0 98,-83\"/>\r\n",
       "<text text-anchor=\"middle\" x=\"49\" y=\"-67.8\" font-family=\"Times New Roman,serif\" font-size=\"14.00\">Leaf Node </text>\r\n",
       "<text text-anchor=\"middle\" x=\"49\" y=\"-52.8\" font-family=\"Times New Roman,serif\" font-size=\"14.00\">False </text>\r\n",
       "<text text-anchor=\"middle\" x=\"49\" y=\"-37.8\" font-family=\"Times New Roman,serif\" font-size=\"14.00\">1</text>\r\n",
       "<text text-anchor=\"middle\" x=\"49\" y=\"-22.8\" font-family=\"Times New Roman,serif\" font-size=\"14.00\">entropy = 0.0</text>\r\n",
       "<text text-anchor=\"middle\" x=\"49\" y=\"-7.8\" font-family=\"Times New Roman,serif\" font-size=\"14.00\"> output &#45; False</text>\r\n",
       "</g>\r\n",
       "<!-- 2&#45;&gt;3 -->\r\n",
       "<g id=\"edge2\" class=\"edge\"><title>2&#45;&gt;3</title>\r\n",
       "<path fill=\"none\" stroke=\"black\" d=\"M89.8186,-126.285C84.6763,-115.73 78.8716,-103.815 73.2875,-92.3533\"/>\r\n",
       "<polygon fill=\"black\" stroke=\"black\" points=\"76.3995,-90.7496 68.8733,-83.2926 70.1066,-93.8154 76.3995,-90.7496\"/>\r\n",
       "</g>\r\n",
       "<!-- 4 -->\r\n",
       "<g id=\"node4\" class=\"node\"><title>4</title>\r\n",
       "<polygon fill=\"none\" stroke=\"black\" points=\"211.5,-83 116.5,-83 116.5,-0 211.5,-0 211.5,-83\"/>\r\n",
       "<text text-anchor=\"middle\" x=\"164\" y=\"-67.8\" font-family=\"Times New Roman,serif\" font-size=\"14.00\">Leaf Node </text>\r\n",
       "<text text-anchor=\"middle\" x=\"164\" y=\"-52.8\" font-family=\"Times New Roman,serif\" font-size=\"14.00\">True </text>\r\n",
       "<text text-anchor=\"middle\" x=\"164\" y=\"-37.8\" font-family=\"Times New Roman,serif\" font-size=\"14.00\">1</text>\r\n",
       "<text text-anchor=\"middle\" x=\"164\" y=\"-22.8\" font-family=\"Times New Roman,serif\" font-size=\"14.00\">entropy = 0.0</text>\r\n",
       "<text text-anchor=\"middle\" x=\"164\" y=\"-7.8\" font-family=\"Times New Roman,serif\" font-size=\"14.00\"> output &#45; True</text>\r\n",
       "</g>\r\n",
       "<!-- 2&#45;&gt;4 -->\r\n",
       "<g id=\"edge3\" class=\"edge\"><title>2&#45;&gt;4</title>\r\n",
       "<path fill=\"none\" stroke=\"black\" d=\"M122.465,-126.285C127.698,-115.73 133.604,-103.815 139.286,-92.3533\"/>\r\n",
       "<polygon fill=\"black\" stroke=\"black\" points=\"142.472,-93.8067 143.778,-83.2926 136.201,-90.6976 142.472,-93.8067\"/>\r\n",
       "</g>\r\n",
       "</g>\r\n",
       "</svg>\r\n"
      ],
      "text/plain": [
       "<graphviz.dot.Digraph at 0x1b0f0495248>"
      ]
     },
     "execution_count": 15,
     "metadata": {},
     "output_type": "execute_result"
    }
   ],
   "source": [
    "dot"
   ]
  },
  {
   "cell_type": "markdown",
   "id": "urban-spouse",
   "metadata": {},
   "source": [
    "### Iris Dataset"
   ]
  },
  {
   "cell_type": "code",
   "execution_count": 16,
   "id": "shaped-lighting",
   "metadata": {},
   "outputs": [
    {
     "name": "stdout",
     "output_type": "stream",
     "text": [
      "Level  0\n",
      "Count of setosa =  50\n",
      "Count of versicolor =  50\n",
      "Count of virginica =  50\n",
      "Current Entropy = 1.584962500721156\n",
      "Splitting on feature petal length (cm) at  2.45 with gain ratio 0.9999999999999999\n",
      "------------------------------------------------------------\n",
      "Level  1\n",
      "Count of setosa =  50\n",
      "Current Entropy = 0.0\n",
      "Reached Leaf Node\n",
      "------------------------------------------------------------\n",
      "Level  1\n",
      "Count of versicolor =  50\n",
      "Count of virginica =  50\n",
      "Current Entropy = 1.0\n",
      "Splitting on feature petal width (cm) at  1.75 with gain ratio 0.6933647985912663\n",
      "------------------------------------------------------------\n",
      "Level  2\n",
      "Count of versicolor =  49\n",
      "Count of virginica =  5\n",
      "Current Entropy = 0.44506485705083865\n",
      "Splitting on feature sepal length (cm) at  7.1 with gain ratio 0.4975543406112372\n",
      "------------------------------------------------------------\n",
      "Level  3\n",
      "Count of versicolor =  49\n",
      "Count of virginica =  4\n",
      "Current Entropy = 0.3860189005698934\n",
      "Splitting on feature sepal width (cm) at  2.85 with gain ratio 0.06283947273220815\n",
      "------------------------------------------------------------\n",
      "Level  4\n",
      "Count of versicolor =  27\n",
      "Count of virginica =  4\n",
      "Current Entropy = 0.5547781633412736\n",
      "Reached Leaf Node, No Feature to Split Further\n",
      "------------------------------------------------------------\n",
      "Level  4\n",
      "Count of versicolor =  22\n",
      "Current Entropy = 0.0\n",
      "Reached Leaf Node\n",
      "------------------------------------------------------------\n",
      "Level  3\n",
      "Count of virginica =  1\n",
      "Current Entropy = 0.0\n",
      "Reached Leaf Node\n",
      "------------------------------------------------------------\n",
      "Level  2\n",
      "Count of versicolor =  1\n",
      "Count of virginica =  45\n",
      "Current Entropy = 0.15109697051711368\n",
      "Splitting on feature sepal length (cm) at  5.95 with gain ratio 0.0992432708618855\n",
      "------------------------------------------------------------\n",
      "Level  3\n",
      "Count of versicolor =  1\n",
      "Count of virginica =  6\n",
      "Current Entropy = 0.5916727785823275\n",
      "Splitting on feature sepal width (cm) at  3.1 with gain ratio 1.0\n",
      "------------------------------------------------------------\n",
      "Level  4\n",
      "Count of virginica =  6\n",
      "Current Entropy = 0.0\n",
      "Reached Leaf Node\n",
      "------------------------------------------------------------\n",
      "Level  4\n",
      "Count of versicolor =  1\n",
      "Current Entropy = 0.0\n",
      "Reached Leaf Node\n",
      "------------------------------------------------------------\n",
      "Level  3\n",
      "Count of virginica =  39\n",
      "Current Entropy = 0.0\n",
      "Reached Leaf Node\n",
      "------------------------------------------------------------\n"
     ]
    }
   ],
   "source": [
    "iris=datasets.load_iris()\n",
    "df=create_data_frame(iris.data,iris.target,iris.feature_names)\n",
    "buildTree.refresh_dic()\n",
    "dec_tree(df,['setosa', 'versicolor', 'virginica'])\n",
    "dot=buildTree.treebuilder()"
   ]
  },
  {
   "cell_type": "code",
   "execution_count": 17,
   "id": "therapeutic-laundry",
   "metadata": {},
   "outputs": [
    {
     "data": {
      "text/plain": [
       "True"
      ]
     },
     "execution_count": 17,
     "metadata": {},
     "output_type": "execute_result"
    }
   ],
   "source": [
    "export_tree(dot,'iris_final_tree')"
   ]
  },
  {
   "cell_type": "code",
   "execution_count": 18,
   "id": "elder-hazard",
   "metadata": {},
   "outputs": [
    {
     "data": {
      "image/svg+xml": [
       "<?xml version=\"1.0\" encoding=\"UTF-8\" standalone=\"no\"?>\r\n",
       "<!DOCTYPE svg PUBLIC \"-//W3C//DTD SVG 1.1//EN\"\r\n",
       " \"http://www.w3.org/Graphics/SVG/1.1/DTD/svg11.dtd\">\r\n",
       "<!-- Generated by graphviz version 2.38.0 (20140413.2041)\r\n",
       " -->\r\n",
       "<!-- Title: %3 Pages: 1 -->\r\n",
       "<svg width=\"651pt\" height=\"537pt\"\r\n",
       " viewBox=\"0.00 0.00 650.50 537.00\" xmlns=\"http://www.w3.org/2000/svg\" xmlns:xlink=\"http://www.w3.org/1999/xlink\">\r\n",
       "<g id=\"graph0\" class=\"graph\" transform=\"scale(1 1) rotate(0) translate(4 533)\">\r\n",
       "<title>%3</title>\r\n",
       "<polygon fill=\"white\" stroke=\"none\" points=\"-4,4 -4,-533 646.5,-533 646.5,4 -4,4\"/>\r\n",
       "<!-- 1 -->\r\n",
       "<g id=\"node1\" class=\"node\"><title>1</title>\r\n",
       "<polygon fill=\"none\" stroke=\"black\" points=\"364.5,-529 191.5,-529 191.5,-461 364.5,-461 364.5,-529\"/>\r\n",
       "<text text-anchor=\"middle\" x=\"278\" y=\"-513.8\" font-family=\"Times New Roman,serif\" font-size=\"14.00\">petal length (cm) &lt;= 2.45</text>\r\n",
       "<text text-anchor=\"middle\" x=\"278\" y=\"-498.8\" font-family=\"Times New Roman,serif\" font-size=\"14.00\">setosa ,versicolor ,virginica </text>\r\n",
       "<text text-anchor=\"middle\" x=\"278\" y=\"-483.8\" font-family=\"Times New Roman,serif\" font-size=\"14.00\">50,50,50</text>\r\n",
       "<text text-anchor=\"middle\" x=\"278\" y=\"-468.8\" font-family=\"Times New Roman,serif\" font-size=\"14.00\">entropy = 1.585</text>\r\n",
       "</g>\r\n",
       "<!-- 2 -->\r\n",
       "<g id=\"node2\" class=\"node\"><title>2</title>\r\n",
       "<polygon fill=\"none\" stroke=\"black\" points=\"256,-425 152,-425 152,-342 256,-342 256,-425\"/>\r\n",
       "<text text-anchor=\"middle\" x=\"204\" y=\"-409.8\" font-family=\"Times New Roman,serif\" font-size=\"14.00\">Leaf Node </text>\r\n",
       "<text text-anchor=\"middle\" x=\"204\" y=\"-394.8\" font-family=\"Times New Roman,serif\" font-size=\"14.00\">setosa </text>\r\n",
       "<text text-anchor=\"middle\" x=\"204\" y=\"-379.8\" font-family=\"Times New Roman,serif\" font-size=\"14.00\">50</text>\r\n",
       "<text text-anchor=\"middle\" x=\"204\" y=\"-364.8\" font-family=\"Times New Roman,serif\" font-size=\"14.00\">entropy = 0.0</text>\r\n",
       "<text text-anchor=\"middle\" x=\"204\" y=\"-349.8\" font-family=\"Times New Roman,serif\" font-size=\"14.00\"> output &#45; setosa</text>\r\n",
       "</g>\r\n",
       "<!-- 1&#45;&gt;2 -->\r\n",
       "<g id=\"edge1\" class=\"edge\"><title>1&#45;&gt;2</title>\r\n",
       "<path fill=\"none\" stroke=\"black\" d=\"M255.597,-460.849C249.799,-452.271 243.433,-442.85 237.211,-433.643\"/>\r\n",
       "<polygon fill=\"black\" stroke=\"black\" points=\"240.057,-431.603 231.557,-425.277 234.257,-435.523 240.057,-431.603\"/>\r\n",
       "</g>\r\n",
       "<!-- 3 -->\r\n",
       "<g id=\"node3\" class=\"node\"><title>3</title>\r\n",
       "<polygon fill=\"none\" stroke=\"black\" points=\"429.5,-417.5 274.5,-417.5 274.5,-349.5 429.5,-349.5 429.5,-417.5\"/>\r\n",
       "<text text-anchor=\"middle\" x=\"352\" y=\"-402.3\" font-family=\"Times New Roman,serif\" font-size=\"14.00\">petal width (cm) &lt;= 1.75</text>\r\n",
       "<text text-anchor=\"middle\" x=\"352\" y=\"-387.3\" font-family=\"Times New Roman,serif\" font-size=\"14.00\">versicolor ,virginica </text>\r\n",
       "<text text-anchor=\"middle\" x=\"352\" y=\"-372.3\" font-family=\"Times New Roman,serif\" font-size=\"14.00\">50,50</text>\r\n",
       "<text text-anchor=\"middle\" x=\"352\" y=\"-357.3\" font-family=\"Times New Roman,serif\" font-size=\"14.00\">entropy = 1.0</text>\r\n",
       "</g>\r\n",
       "<!-- 1&#45;&gt;3 -->\r\n",
       "<g id=\"edge2\" class=\"edge\"><title>1&#45;&gt;3</title>\r\n",
       "<path fill=\"none\" stroke=\"black\" d=\"M300.403,-460.849C307.793,-449.914 316.108,-437.61 323.87,-426.125\"/>\r\n",
       "<polygon fill=\"black\" stroke=\"black\" points=\"326.973,-427.783 329.673,-417.538 321.174,-423.864 326.973,-427.783\"/>\r\n",
       "</g>\r\n",
       "<!-- 4 -->\r\n",
       "<g id=\"node4\" class=\"node\"><title>4</title>\r\n",
       "<polygon fill=\"none\" stroke=\"black\" points=\"341.5,-306 188.5,-306 188.5,-238 341.5,-238 341.5,-306\"/>\r\n",
       "<text text-anchor=\"middle\" x=\"265\" y=\"-290.8\" font-family=\"Times New Roman,serif\" font-size=\"14.00\">sepal length (cm) &lt;= 7.1</text>\r\n",
       "<text text-anchor=\"middle\" x=\"265\" y=\"-275.8\" font-family=\"Times New Roman,serif\" font-size=\"14.00\">versicolor ,virginica </text>\r\n",
       "<text text-anchor=\"middle\" x=\"265\" y=\"-260.8\" font-family=\"Times New Roman,serif\" font-size=\"14.00\">49,5</text>\r\n",
       "<text text-anchor=\"middle\" x=\"265\" y=\"-245.8\" font-family=\"Times New Roman,serif\" font-size=\"14.00\">entropy = 0.4451</text>\r\n",
       "</g>\r\n",
       "<!-- 3&#45;&gt;4 -->\r\n",
       "<g id=\"edge3\" class=\"edge\"><title>3&#45;&gt;4</title>\r\n",
       "<path fill=\"none\" stroke=\"black\" d=\"M325.661,-349.349C316.803,-338.2 306.813,-325.627 297.536,-313.95\"/>\r\n",
       "<polygon fill=\"black\" stroke=\"black\" points=\"300.211,-311.69 291.249,-306.038 294.73,-316.045 300.211,-311.69\"/>\r\n",
       "</g>\r\n",
       "<!-- 9 -->\r\n",
       "<g id=\"node9\" class=\"node\"><title>9</title>\r\n",
       "<polygon fill=\"none\" stroke=\"black\" points=\"520,-306 360,-306 360,-238 520,-238 520,-306\"/>\r\n",
       "<text text-anchor=\"middle\" x=\"440\" y=\"-290.8\" font-family=\"Times New Roman,serif\" font-size=\"14.00\">sepal length (cm) &lt;= 5.95</text>\r\n",
       "<text text-anchor=\"middle\" x=\"440\" y=\"-275.8\" font-family=\"Times New Roman,serif\" font-size=\"14.00\">versicolor ,virginica </text>\r\n",
       "<text text-anchor=\"middle\" x=\"440\" y=\"-260.8\" font-family=\"Times New Roman,serif\" font-size=\"14.00\">1,45</text>\r\n",
       "<text text-anchor=\"middle\" x=\"440\" y=\"-245.8\" font-family=\"Times New Roman,serif\" font-size=\"14.00\">entropy = 0.1511</text>\r\n",
       "</g>\r\n",
       "<!-- 3&#45;&gt;9 -->\r\n",
       "<g id=\"edge8\" class=\"edge\"><title>3&#45;&gt;9</title>\r\n",
       "<path fill=\"none\" stroke=\"black\" d=\"M378.642,-349.349C387.602,-338.2 397.706,-325.627 407.09,-313.95\"/>\r\n",
       "<polygon fill=\"black\" stroke=\"black\" points=\"409.913,-316.025 413.449,-306.038 404.456,-311.64 409.913,-316.025\"/>\r\n",
       "</g>\r\n",
       "<!-- 5 -->\r\n",
       "<g id=\"node5\" class=\"node\"><title>5</title>\r\n",
       "<polygon fill=\"none\" stroke=\"black\" points=\"195,-194.5 37,-194.5 37,-126.5 195,-126.5 195,-194.5\"/>\r\n",
       "<text text-anchor=\"middle\" x=\"116\" y=\"-179.3\" font-family=\"Times New Roman,serif\" font-size=\"14.00\">sepal width (cm) &lt;= 2.85</text>\r\n",
       "<text text-anchor=\"middle\" x=\"116\" y=\"-164.3\" font-family=\"Times New Roman,serif\" font-size=\"14.00\">versicolor ,virginica </text>\r\n",
       "<text text-anchor=\"middle\" x=\"116\" y=\"-149.3\" font-family=\"Times New Roman,serif\" font-size=\"14.00\">49,4</text>\r\n",
       "<text text-anchor=\"middle\" x=\"116\" y=\"-134.3\" font-family=\"Times New Roman,serif\" font-size=\"14.00\">entropy = 0.386</text>\r\n",
       "</g>\r\n",
       "<!-- 4&#45;&gt;5 -->\r\n",
       "<g id=\"edge4\" class=\"edge\"><title>4&#45;&gt;5</title>\r\n",
       "<path fill=\"none\" stroke=\"black\" d=\"M219.891,-237.849C203.99,-226.164 185.962,-212.915 169.44,-200.773\"/>\r\n",
       "<polygon fill=\"black\" stroke=\"black\" points=\"171.087,-197.64 160.956,-194.538 166.941,-203.28 171.087,-197.64\"/>\r\n",
       "</g>\r\n",
       "<!-- 8 -->\r\n",
       "<g id=\"node8\" class=\"node\"><title>8</title>\r\n",
       "<polygon fill=\"none\" stroke=\"black\" points=\"328.5,-202 213.5,-202 213.5,-119 328.5,-119 328.5,-202\"/>\r\n",
       "<text text-anchor=\"middle\" x=\"271\" y=\"-186.8\" font-family=\"Times New Roman,serif\" font-size=\"14.00\">Leaf Node </text>\r\n",
       "<text text-anchor=\"middle\" x=\"271\" y=\"-171.8\" font-family=\"Times New Roman,serif\" font-size=\"14.00\">virginica </text>\r\n",
       "<text text-anchor=\"middle\" x=\"271\" y=\"-156.8\" font-family=\"Times New Roman,serif\" font-size=\"14.00\">1</text>\r\n",
       "<text text-anchor=\"middle\" x=\"271\" y=\"-141.8\" font-family=\"Times New Roman,serif\" font-size=\"14.00\">entropy = 0.0</text>\r\n",
       "<text text-anchor=\"middle\" x=\"271\" y=\"-126.8\" font-family=\"Times New Roman,serif\" font-size=\"14.00\"> output &#45; virginica</text>\r\n",
       "</g>\r\n",
       "<!-- 4&#45;&gt;8 -->\r\n",
       "<g id=\"edge7\" class=\"edge\"><title>4&#45;&gt;8</title>\r\n",
       "<path fill=\"none\" stroke=\"black\" d=\"M266.816,-237.849C267.258,-229.796 267.74,-221 268.214,-212.336\"/>\r\n",
       "<polygon fill=\"black\" stroke=\"black\" points=\"271.713,-212.454 268.766,-202.277 264.724,-212.071 271.713,-212.454\"/>\r\n",
       "</g>\r\n",
       "<!-- 6 -->\r\n",
       "<g id=\"node6\" class=\"node\"><title>6</title>\r\n",
       "<polygon fill=\"none\" stroke=\"black\" points=\"130,-83 0,-83 0,-0 130,-0 130,-83\"/>\r\n",
       "<text text-anchor=\"middle\" x=\"65\" y=\"-67.8\" font-family=\"Times New Roman,serif\" font-size=\"14.00\">Leaf Node </text>\r\n",
       "<text text-anchor=\"middle\" x=\"65\" y=\"-52.8\" font-family=\"Times New Roman,serif\" font-size=\"14.00\">versicolor ,virginica </text>\r\n",
       "<text text-anchor=\"middle\" x=\"65\" y=\"-37.8\" font-family=\"Times New Roman,serif\" font-size=\"14.00\">27,4</text>\r\n",
       "<text text-anchor=\"middle\" x=\"65\" y=\"-22.8\" font-family=\"Times New Roman,serif\" font-size=\"14.00\">entropy = 0.5548</text>\r\n",
       "<text text-anchor=\"middle\" x=\"65\" y=\"-7.8\" font-family=\"Times New Roman,serif\" font-size=\"14.00\"> output &#45; versicolor</text>\r\n",
       "</g>\r\n",
       "<!-- 5&#45;&gt;6 -->\r\n",
       "<g id=\"edge5\" class=\"edge\"><title>5&#45;&gt;6</title>\r\n",
       "<path fill=\"none\" stroke=\"black\" d=\"M101.522,-126.285C96.9665,-115.835 91.83,-104.051 86.8794,-92.6939\"/>\r\n",
       "<polygon fill=\"black\" stroke=\"black\" points=\"89.9857,-91.061 82.7814,-83.2926 83.5689,-93.8581 89.9857,-91.061\"/>\r\n",
       "</g>\r\n",
       "<!-- 7 -->\r\n",
       "<g id=\"node7\" class=\"node\"><title>7</title>\r\n",
       "<polygon fill=\"none\" stroke=\"black\" points=\"272,-83 148,-83 148,-0 272,-0 272,-83\"/>\r\n",
       "<text text-anchor=\"middle\" x=\"210\" y=\"-67.8\" font-family=\"Times New Roman,serif\" font-size=\"14.00\">Leaf Node </text>\r\n",
       "<text text-anchor=\"middle\" x=\"210\" y=\"-52.8\" font-family=\"Times New Roman,serif\" font-size=\"14.00\">versicolor </text>\r\n",
       "<text text-anchor=\"middle\" x=\"210\" y=\"-37.8\" font-family=\"Times New Roman,serif\" font-size=\"14.00\">22</text>\r\n",
       "<text text-anchor=\"middle\" x=\"210\" y=\"-22.8\" font-family=\"Times New Roman,serif\" font-size=\"14.00\">entropy = 0.0</text>\r\n",
       "<text text-anchor=\"middle\" x=\"210\" y=\"-7.8\" font-family=\"Times New Roman,serif\" font-size=\"14.00\"> output &#45; versicolor</text>\r\n",
       "</g>\r\n",
       "<!-- 5&#45;&gt;7 -->\r\n",
       "<g id=\"edge6\" class=\"edge\"><title>5&#45;&gt;7</title>\r\n",
       "<path fill=\"none\" stroke=\"black\" d=\"M142.685,-126.285C151.417,-115.417 161.308,-103.106 170.767,-91.3331\"/>\r\n",
       "<polygon fill=\"black\" stroke=\"black\" points=\"173.692,-93.2804 177.226,-83.2926 168.235,-88.8962 173.692,-93.2804\"/>\r\n",
       "</g>\r\n",
       "<!-- 10 -->\r\n",
       "<g id=\"node10\" class=\"node\"><title>10</title>\r\n",
       "<polygon fill=\"none\" stroke=\"black\" points=\"509.5,-194.5 358.5,-194.5 358.5,-126.5 509.5,-126.5 509.5,-194.5\"/>\r\n",
       "<text text-anchor=\"middle\" x=\"434\" y=\"-179.3\" font-family=\"Times New Roman,serif\" font-size=\"14.00\">sepal width (cm) &lt;= 3.1</text>\r\n",
       "<text text-anchor=\"middle\" x=\"434\" y=\"-164.3\" font-family=\"Times New Roman,serif\" font-size=\"14.00\">versicolor ,virginica </text>\r\n",
       "<text text-anchor=\"middle\" x=\"434\" y=\"-149.3\" font-family=\"Times New Roman,serif\" font-size=\"14.00\">1,6</text>\r\n",
       "<text text-anchor=\"middle\" x=\"434\" y=\"-134.3\" font-family=\"Times New Roman,serif\" font-size=\"14.00\">entropy = 0.5917</text>\r\n",
       "</g>\r\n",
       "<!-- 9&#45;&gt;10 -->\r\n",
       "<g id=\"edge9\" class=\"edge\"><title>9&#45;&gt;10</title>\r\n",
       "<path fill=\"none\" stroke=\"black\" d=\"M438.184,-237.849C437.614,-227.45 436.976,-215.813 436.374,-204.82\"/>\r\n",
       "<polygon fill=\"black\" stroke=\"black\" points=\"439.852,-204.332 435.81,-194.538 432.863,-204.715 439.852,-204.332\"/>\r\n",
       "</g>\r\n",
       "<!-- 13 -->\r\n",
       "<g id=\"node13\" class=\"node\"><title>13</title>\r\n",
       "<polygon fill=\"none\" stroke=\"black\" points=\"642.5,-202 527.5,-202 527.5,-119 642.5,-119 642.5,-202\"/>\r\n",
       "<text text-anchor=\"middle\" x=\"585\" y=\"-186.8\" font-family=\"Times New Roman,serif\" font-size=\"14.00\">Leaf Node </text>\r\n",
       "<text text-anchor=\"middle\" x=\"585\" y=\"-171.8\" font-family=\"Times New Roman,serif\" font-size=\"14.00\">virginica </text>\r\n",
       "<text text-anchor=\"middle\" x=\"585\" y=\"-156.8\" font-family=\"Times New Roman,serif\" font-size=\"14.00\">39</text>\r\n",
       "<text text-anchor=\"middle\" x=\"585\" y=\"-141.8\" font-family=\"Times New Roman,serif\" font-size=\"14.00\">entropy = 0.0</text>\r\n",
       "<text text-anchor=\"middle\" x=\"585\" y=\"-126.8\" font-family=\"Times New Roman,serif\" font-size=\"14.00\"> output &#45; virginica</text>\r\n",
       "</g>\r\n",
       "<!-- 9&#45;&gt;13 -->\r\n",
       "<g id=\"edge12\" class=\"edge\"><title>9&#45;&gt;13</title>\r\n",
       "<path fill=\"none\" stroke=\"black\" d=\"M483.898,-237.849C496.254,-228.518 509.93,-218.191 523.126,-208.226\"/>\r\n",
       "<polygon fill=\"black\" stroke=\"black\" points=\"525.393,-210.899 531.264,-202.08 521.175,-205.313 525.393,-210.899\"/>\r\n",
       "</g>\r\n",
       "<!-- 11 -->\r\n",
       "<g id=\"node11\" class=\"node\"><title>11</title>\r\n",
       "<polygon fill=\"none\" stroke=\"black\" points=\"448.5,-83 333.5,-83 333.5,-0 448.5,-0 448.5,-83\"/>\r\n",
       "<text text-anchor=\"middle\" x=\"391\" y=\"-67.8\" font-family=\"Times New Roman,serif\" font-size=\"14.00\">Leaf Node </text>\r\n",
       "<text text-anchor=\"middle\" x=\"391\" y=\"-52.8\" font-family=\"Times New Roman,serif\" font-size=\"14.00\">virginica </text>\r\n",
       "<text text-anchor=\"middle\" x=\"391\" y=\"-37.8\" font-family=\"Times New Roman,serif\" font-size=\"14.00\">6</text>\r\n",
       "<text text-anchor=\"middle\" x=\"391\" y=\"-22.8\" font-family=\"Times New Roman,serif\" font-size=\"14.00\">entropy = 0.0</text>\r\n",
       "<text text-anchor=\"middle\" x=\"391\" y=\"-7.8\" font-family=\"Times New Roman,serif\" font-size=\"14.00\"> output &#45; virginica</text>\r\n",
       "</g>\r\n",
       "<!-- 10&#45;&gt;11 -->\r\n",
       "<g id=\"edge10\" class=\"edge\"><title>10&#45;&gt;11</title>\r\n",
       "<path fill=\"none\" stroke=\"black\" d=\"M421.793,-126.285C417.952,-115.835 413.621,-104.051 409.447,-92.6939\"/>\r\n",
       "<polygon fill=\"black\" stroke=\"black\" points=\"412.727,-91.4714 405.992,-83.2926 406.157,-93.8862 412.727,-91.4714\"/>\r\n",
       "</g>\r\n",
       "<!-- 12 -->\r\n",
       "<g id=\"node12\" class=\"node\"><title>12</title>\r\n",
       "<polygon fill=\"none\" stroke=\"black\" points=\"591,-83 467,-83 467,-0 591,-0 591,-83\"/>\r\n",
       "<text text-anchor=\"middle\" x=\"529\" y=\"-67.8\" font-family=\"Times New Roman,serif\" font-size=\"14.00\">Leaf Node </text>\r\n",
       "<text text-anchor=\"middle\" x=\"529\" y=\"-52.8\" font-family=\"Times New Roman,serif\" font-size=\"14.00\">versicolor </text>\r\n",
       "<text text-anchor=\"middle\" x=\"529\" y=\"-37.8\" font-family=\"Times New Roman,serif\" font-size=\"14.00\">1</text>\r\n",
       "<text text-anchor=\"middle\" x=\"529\" y=\"-22.8\" font-family=\"Times New Roman,serif\" font-size=\"14.00\">entropy = 0.0</text>\r\n",
       "<text text-anchor=\"middle\" x=\"529\" y=\"-7.8\" font-family=\"Times New Roman,serif\" font-size=\"14.00\"> output &#45; versicolor</text>\r\n",
       "</g>\r\n",
       "<!-- 10&#45;&gt;12 -->\r\n",
       "<g id=\"edge11\" class=\"edge\"><title>10&#45;&gt;12</title>\r\n",
       "<path fill=\"none\" stroke=\"black\" d=\"M460.969,-126.285C469.794,-115.417 479.79,-103.106 489.349,-91.3331\"/>\r\n",
       "<polygon fill=\"black\" stroke=\"black\" points=\"492.291,-93.262 495.878,-83.2926 486.857,-88.8496 492.291,-93.262\"/>\r\n",
       "</g>\r\n",
       "</g>\r\n",
       "</svg>\r\n"
      ],
      "text/plain": [
       "<graphviz.dot.Digraph at 0x1b0f04b1208>"
      ]
     },
     "execution_count": 18,
     "metadata": {},
     "output_type": "execute_result"
    }
   ],
   "source": [
    "dot"
   ]
  }
 ],
 "metadata": {
  "kernelspec": {
   "display_name": "Python 3",
   "language": "python",
   "name": "python3"
  },
  "language_info": {
   "codemirror_mode": {
    "name": "ipython",
    "version": 3
   },
   "file_extension": ".py",
   "mimetype": "text/x-python",
   "name": "python",
   "nbconvert_exporter": "python",
   "pygments_lexer": "ipython3",
   "version": "3.8.8"
  }
 },
 "nbformat": 4,
 "nbformat_minor": 5
}
